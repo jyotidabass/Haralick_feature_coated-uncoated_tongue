{
  "nbformat": 4,
  "nbformat_minor": 0,
  "metadata": {
    "colab": {
      "name": "Haralick_feature_coated-uncoated_tongue.ipynb",
      "provenance": [],
      "authorship_tag": "ABX9TyPdRlxuDHizHHDVJsK9/GVq",
      "include_colab_link": true
    },
    "kernelspec": {
      "name": "python3",
      "display_name": "Python 3"
    },
    "language_info": {
      "name": "python"
    }
  },
  "cells": [
    {
      "cell_type": "markdown",
      "metadata": {
        "id": "view-in-github",
        "colab_type": "text"
      },
      "source": [
        "<a href=\"https://colab.research.google.com/github/jyotidabass/Haralick_feature_coated-uncoated_tongue/blob/main/Haralick_feature_coated_uncoated_tongue.ipynb\" target=\"_parent\"><img src=\"https://colab.research.google.com/assets/colab-badge.svg\" alt=\"Open In Colab\"/></a>"
      ]
    },
    {
      "cell_type": "code",
      "execution_count": 1,
      "metadata": {
        "id": "03H72WfdTFmj"
      },
      "outputs": [],
      "source": [
        "import numpy as np \n",
        "import matplotlib.pyplot as plt \n",
        "import pandas as pd\n",
        "\n",
        "from sklearn.ensemble import RandomForestClassifier\n",
        "from sklearn.model_selection import train_test_split"
      ]
    },
    {
      "cell_type": "code",
      "source": [
        "data = pd.read_csv ('/content/Extracted_Haralick_features.csv')"
      ],
      "metadata": {
        "id": "Nyelm4RjTG3z"
      },
      "execution_count": 2,
      "outputs": []
    },
    {
      "cell_type": "code",
      "source": [
        "data.describe()"
      ],
      "metadata": {
        "colab": {
          "base_uri": "https://localhost:8080/",
          "height": 364
        },
        "id": "TcI5UptkTPQB",
        "outputId": "79904f39-2927-4551-d49e-2d75d3847e72"
      },
      "execution_count": 3,
      "outputs": [
        {
          "output_type": "execute_result",
          "data": {
            "text/plain": [
              "        Haralick1   Haralick2   Haralick3    Haralick4   Haralick5  \\\n",
              "count  464.000000  464.000000  464.000000   464.000000  464.000000   \n",
              "mean     0.001761   17.361828    0.994423  1991.147987    0.443589   \n",
              "std      0.001513   25.424627    0.010015  1006.150496    0.135256   \n",
              "min      0.000167    0.532090    0.877611    55.708374    0.104640   \n",
              "25%      0.000859    4.389308    0.994228  1320.224913    0.343068   \n",
              "50%      0.001333    9.879805    0.997236  1863.109175    0.436306   \n",
              "75%      0.002046   18.717462    0.998693  2546.996469    0.535540   \n",
              "max      0.012572  207.672402    0.999885  5821.077994    0.829502   \n",
              "\n",
              "        Haralick6     Haralick7   Haralick8   Haralick9  Haralick10  \\\n",
              "count  464.000000    464.000000  464.000000  464.000000  464.000000   \n",
              "mean   268.866054   7947.230120    8.061371   10.380027    0.000967   \n",
              "std     45.924123   4022.871366    0.387313    0.904356    0.000432   \n",
              "min     88.420610    219.797941    5.872038    7.567813    0.000183   \n",
              "25%    241.276723   5232.829601    7.864588    9.805552    0.000646   \n",
              "50%    271.745192   7433.201276    8.110030   10.387550    0.000900   \n",
              "75%    298.273306  10158.155442    8.331777   11.023060    0.001217   \n",
              "max    403.097444  23241.912170    8.873835   13.033222    0.003238   \n",
              "\n",
              "       Haralick11  Haralick12  Haralick13       Class  \n",
              "count  464.000000  464.000000  464.000000  464.000000  \n",
              "mean     2.651124   -0.533021    0.998927    0.504310  \n",
              "std      0.646960    0.100435    0.004201    0.500521  \n",
              "min      1.110394   -0.787784    0.936413    0.000000  \n",
              "25%      2.197972   -0.600687    0.999355    0.000000  \n",
              "50%      2.605099   -0.533870    0.999726    1.000000  \n",
              "75%      3.055785   -0.472942    0.999893    1.000000  \n",
              "max      4.829132   -0.170450    0.999995    1.000000  "
            ],
            "text/html": [
              "\n",
              "  <div id=\"df-13e8ec2d-2506-468f-8d9c-5e5903677ced\">\n",
              "    <div class=\"colab-df-container\">\n",
              "      <div>\n",
              "<style scoped>\n",
              "    .dataframe tbody tr th:only-of-type {\n",
              "        vertical-align: middle;\n",
              "    }\n",
              "\n",
              "    .dataframe tbody tr th {\n",
              "        vertical-align: top;\n",
              "    }\n",
              "\n",
              "    .dataframe thead th {\n",
              "        text-align: right;\n",
              "    }\n",
              "</style>\n",
              "<table border=\"1\" class=\"dataframe\">\n",
              "  <thead>\n",
              "    <tr style=\"text-align: right;\">\n",
              "      <th></th>\n",
              "      <th>Haralick1</th>\n",
              "      <th>Haralick2</th>\n",
              "      <th>Haralick3</th>\n",
              "      <th>Haralick4</th>\n",
              "      <th>Haralick5</th>\n",
              "      <th>Haralick6</th>\n",
              "      <th>Haralick7</th>\n",
              "      <th>Haralick8</th>\n",
              "      <th>Haralick9</th>\n",
              "      <th>Haralick10</th>\n",
              "      <th>Haralick11</th>\n",
              "      <th>Haralick12</th>\n",
              "      <th>Haralick13</th>\n",
              "      <th>Class</th>\n",
              "    </tr>\n",
              "  </thead>\n",
              "  <tbody>\n",
              "    <tr>\n",
              "      <th>count</th>\n",
              "      <td>464.000000</td>\n",
              "      <td>464.000000</td>\n",
              "      <td>464.000000</td>\n",
              "      <td>464.000000</td>\n",
              "      <td>464.000000</td>\n",
              "      <td>464.000000</td>\n",
              "      <td>464.000000</td>\n",
              "      <td>464.000000</td>\n",
              "      <td>464.000000</td>\n",
              "      <td>464.000000</td>\n",
              "      <td>464.000000</td>\n",
              "      <td>464.000000</td>\n",
              "      <td>464.000000</td>\n",
              "      <td>464.000000</td>\n",
              "    </tr>\n",
              "    <tr>\n",
              "      <th>mean</th>\n",
              "      <td>0.001761</td>\n",
              "      <td>17.361828</td>\n",
              "      <td>0.994423</td>\n",
              "      <td>1991.147987</td>\n",
              "      <td>0.443589</td>\n",
              "      <td>268.866054</td>\n",
              "      <td>7947.230120</td>\n",
              "      <td>8.061371</td>\n",
              "      <td>10.380027</td>\n",
              "      <td>0.000967</td>\n",
              "      <td>2.651124</td>\n",
              "      <td>-0.533021</td>\n",
              "      <td>0.998927</td>\n",
              "      <td>0.504310</td>\n",
              "    </tr>\n",
              "    <tr>\n",
              "      <th>std</th>\n",
              "      <td>0.001513</td>\n",
              "      <td>25.424627</td>\n",
              "      <td>0.010015</td>\n",
              "      <td>1006.150496</td>\n",
              "      <td>0.135256</td>\n",
              "      <td>45.924123</td>\n",
              "      <td>4022.871366</td>\n",
              "      <td>0.387313</td>\n",
              "      <td>0.904356</td>\n",
              "      <td>0.000432</td>\n",
              "      <td>0.646960</td>\n",
              "      <td>0.100435</td>\n",
              "      <td>0.004201</td>\n",
              "      <td>0.500521</td>\n",
              "    </tr>\n",
              "    <tr>\n",
              "      <th>min</th>\n",
              "      <td>0.000167</td>\n",
              "      <td>0.532090</td>\n",
              "      <td>0.877611</td>\n",
              "      <td>55.708374</td>\n",
              "      <td>0.104640</td>\n",
              "      <td>88.420610</td>\n",
              "      <td>219.797941</td>\n",
              "      <td>5.872038</td>\n",
              "      <td>7.567813</td>\n",
              "      <td>0.000183</td>\n",
              "      <td>1.110394</td>\n",
              "      <td>-0.787784</td>\n",
              "      <td>0.936413</td>\n",
              "      <td>0.000000</td>\n",
              "    </tr>\n",
              "    <tr>\n",
              "      <th>25%</th>\n",
              "      <td>0.000859</td>\n",
              "      <td>4.389308</td>\n",
              "      <td>0.994228</td>\n",
              "      <td>1320.224913</td>\n",
              "      <td>0.343068</td>\n",
              "      <td>241.276723</td>\n",
              "      <td>5232.829601</td>\n",
              "      <td>7.864588</td>\n",
              "      <td>9.805552</td>\n",
              "      <td>0.000646</td>\n",
              "      <td>2.197972</td>\n",
              "      <td>-0.600687</td>\n",
              "      <td>0.999355</td>\n",
              "      <td>0.000000</td>\n",
              "    </tr>\n",
              "    <tr>\n",
              "      <th>50%</th>\n",
              "      <td>0.001333</td>\n",
              "      <td>9.879805</td>\n",
              "      <td>0.997236</td>\n",
              "      <td>1863.109175</td>\n",
              "      <td>0.436306</td>\n",
              "      <td>271.745192</td>\n",
              "      <td>7433.201276</td>\n",
              "      <td>8.110030</td>\n",
              "      <td>10.387550</td>\n",
              "      <td>0.000900</td>\n",
              "      <td>2.605099</td>\n",
              "      <td>-0.533870</td>\n",
              "      <td>0.999726</td>\n",
              "      <td>1.000000</td>\n",
              "    </tr>\n",
              "    <tr>\n",
              "      <th>75%</th>\n",
              "      <td>0.002046</td>\n",
              "      <td>18.717462</td>\n",
              "      <td>0.998693</td>\n",
              "      <td>2546.996469</td>\n",
              "      <td>0.535540</td>\n",
              "      <td>298.273306</td>\n",
              "      <td>10158.155442</td>\n",
              "      <td>8.331777</td>\n",
              "      <td>11.023060</td>\n",
              "      <td>0.001217</td>\n",
              "      <td>3.055785</td>\n",
              "      <td>-0.472942</td>\n",
              "      <td>0.999893</td>\n",
              "      <td>1.000000</td>\n",
              "    </tr>\n",
              "    <tr>\n",
              "      <th>max</th>\n",
              "      <td>0.012572</td>\n",
              "      <td>207.672402</td>\n",
              "      <td>0.999885</td>\n",
              "      <td>5821.077994</td>\n",
              "      <td>0.829502</td>\n",
              "      <td>403.097444</td>\n",
              "      <td>23241.912170</td>\n",
              "      <td>8.873835</td>\n",
              "      <td>13.033222</td>\n",
              "      <td>0.003238</td>\n",
              "      <td>4.829132</td>\n",
              "      <td>-0.170450</td>\n",
              "      <td>0.999995</td>\n",
              "      <td>1.000000</td>\n",
              "    </tr>\n",
              "  </tbody>\n",
              "</table>\n",
              "</div>\n",
              "      <button class=\"colab-df-convert\" onclick=\"convertToInteractive('df-13e8ec2d-2506-468f-8d9c-5e5903677ced')\"\n",
              "              title=\"Convert this dataframe to an interactive table.\"\n",
              "              style=\"display:none;\">\n",
              "        \n",
              "  <svg xmlns=\"http://www.w3.org/2000/svg\" height=\"24px\"viewBox=\"0 0 24 24\"\n",
              "       width=\"24px\">\n",
              "    <path d=\"M0 0h24v24H0V0z\" fill=\"none\"/>\n",
              "    <path d=\"M18.56 5.44l.94 2.06.94-2.06 2.06-.94-2.06-.94-.94-2.06-.94 2.06-2.06.94zm-11 1L8.5 8.5l.94-2.06 2.06-.94-2.06-.94L8.5 2.5l-.94 2.06-2.06.94zm10 10l.94 2.06.94-2.06 2.06-.94-2.06-.94-.94-2.06-.94 2.06-2.06.94z\"/><path d=\"M17.41 7.96l-1.37-1.37c-.4-.4-.92-.59-1.43-.59-.52 0-1.04.2-1.43.59L10.3 9.45l-7.72 7.72c-.78.78-.78 2.05 0 2.83L4 21.41c.39.39.9.59 1.41.59.51 0 1.02-.2 1.41-.59l7.78-7.78 2.81-2.81c.8-.78.8-2.07 0-2.86zM5.41 20L4 18.59l7.72-7.72 1.47 1.35L5.41 20z\"/>\n",
              "  </svg>\n",
              "      </button>\n",
              "      \n",
              "  <style>\n",
              "    .colab-df-container {\n",
              "      display:flex;\n",
              "      flex-wrap:wrap;\n",
              "      gap: 12px;\n",
              "    }\n",
              "\n",
              "    .colab-df-convert {\n",
              "      background-color: #E8F0FE;\n",
              "      border: none;\n",
              "      border-radius: 50%;\n",
              "      cursor: pointer;\n",
              "      display: none;\n",
              "      fill: #1967D2;\n",
              "      height: 32px;\n",
              "      padding: 0 0 0 0;\n",
              "      width: 32px;\n",
              "    }\n",
              "\n",
              "    .colab-df-convert:hover {\n",
              "      background-color: #E2EBFA;\n",
              "      box-shadow: 0px 1px 2px rgba(60, 64, 67, 0.3), 0px 1px 3px 1px rgba(60, 64, 67, 0.15);\n",
              "      fill: #174EA6;\n",
              "    }\n",
              "\n",
              "    [theme=dark] .colab-df-convert {\n",
              "      background-color: #3B4455;\n",
              "      fill: #D2E3FC;\n",
              "    }\n",
              "\n",
              "    [theme=dark] .colab-df-convert:hover {\n",
              "      background-color: #434B5C;\n",
              "      box-shadow: 0px 1px 3px 1px rgba(0, 0, 0, 0.15);\n",
              "      filter: drop-shadow(0px 1px 2px rgba(0, 0, 0, 0.3));\n",
              "      fill: #FFFFFF;\n",
              "    }\n",
              "  </style>\n",
              "\n",
              "      <script>\n",
              "        const buttonEl =\n",
              "          document.querySelector('#df-13e8ec2d-2506-468f-8d9c-5e5903677ced button.colab-df-convert');\n",
              "        buttonEl.style.display =\n",
              "          google.colab.kernel.accessAllowed ? 'block' : 'none';\n",
              "\n",
              "        async function convertToInteractive(key) {\n",
              "          const element = document.querySelector('#df-13e8ec2d-2506-468f-8d9c-5e5903677ced');\n",
              "          const dataTable =\n",
              "            await google.colab.kernel.invokeFunction('convertToInteractive',\n",
              "                                                     [key], {});\n",
              "          if (!dataTable) return;\n",
              "\n",
              "          const docLinkHtml = 'Like what you see? Visit the ' +\n",
              "            '<a target=\"_blank\" href=https://colab.research.google.com/notebooks/data_table.ipynb>data table notebook</a>'\n",
              "            + ' to learn more about interactive tables.';\n",
              "          element.innerHTML = '';\n",
              "          dataTable['output_type'] = 'display_data';\n",
              "          await google.colab.output.renderOutput(dataTable, element);\n",
              "          const docLink = document.createElement('div');\n",
              "          docLink.innerHTML = docLinkHtml;\n",
              "          element.appendChild(docLink);\n",
              "        }\n",
              "      </script>\n",
              "    </div>\n",
              "  </div>\n",
              "  "
            ]
          },
          "metadata": {},
          "execution_count": 3
        }
      ]
    },
    {
      "cell_type": "code",
      "source": [
        "X , Y = data.values [ : , : -1 ] , data.values [ : , -1 ]"
      ],
      "metadata": {
        "id": "E5lyifqFTSrl"
      },
      "execution_count": 4,
      "outputs": []
    },
    {
      "cell_type": "code",
      "source": [
        "print ( \"classes are : \" , np.unique ( Y ) )"
      ],
      "metadata": {
        "colab": {
          "base_uri": "https://localhost:8080/"
        },
        "id": "Dtd4-uFkTWLX",
        "outputId": "b01337c5-1ff0-4905-9c77-099ee9a57b07"
      },
      "execution_count": 5,
      "outputs": [
        {
          "output_type": "stream",
          "name": "stdout",
          "text": [
            "classes are :  [0. 1.]\n"
          ]
        }
      ]
    },
    {
      "cell_type": "code",
      "source": [
        "X.shape"
      ],
      "metadata": {
        "colab": {
          "base_uri": "https://localhost:8080/"
        },
        "id": "S9hQ6ectTZkw",
        "outputId": "fbe576a9-2128-4682-aa19-109bf6a6b71f"
      },
      "execution_count": 6,
      "outputs": [
        {
          "output_type": "execute_result",
          "data": {
            "text/plain": [
              "(464, 13)"
            ]
          },
          "metadata": {},
          "execution_count": 6
        }
      ]
    },
    {
      "cell_type": "code",
      "source": [
        "Y.shape"
      ],
      "metadata": {
        "colab": {
          "base_uri": "https://localhost:8080/"
        },
        "id": "zRd5l0DdTc9J",
        "outputId": "00550a2b-edd3-425f-86db-97e02612f950"
      },
      "execution_count": 7,
      "outputs": [
        {
          "output_type": "execute_result",
          "data": {
            "text/plain": [
              "(464,)"
            ]
          },
          "metadata": {},
          "execution_count": 7
        }
      ]
    },
    {
      "cell_type": "code",
      "source": [
        "X_train, X_test, Y_train, Y_test = train_test_split( X, Y , test_size = 0.3 , random_state = 7)"
      ],
      "metadata": {
        "id": "tjb4rmw0TftQ"
      },
      "execution_count": 8,
      "outputs": []
    },
    {
      "cell_type": "code",
      "source": [
        "from sklearn.svm import SVC\n",
        "from sklearn import svm\n",
        "model = RandomForestClassifier( n_estimators=100 , random_state = 7 )\n",
        "model=svm.SVC(gamma='scale')"
      ],
      "metadata": {
        "id": "OZXQMXtWToOH"
      },
      "execution_count": 9,
      "outputs": []
    },
    {
      "cell_type": "code",
      "source": [
        "model.fit(X_train,Y_train)\n",
        "#cm = confusion_matrix(Y_test,cf.predict(X_test))\n",
        "#sns.heatmap(cm,annot=True,fmt=\"d\")"
      ],
      "metadata": {
        "colab": {
          "base_uri": "https://localhost:8080/"
        },
        "id": "kCHh2QehTruP",
        "outputId": "083288bf-81aa-48e2-9b11-9231d9bc9473"
      },
      "execution_count": 10,
      "outputs": [
        {
          "output_type": "execute_result",
          "data": {
            "text/plain": [
              "SVC()"
            ]
          },
          "metadata": {},
          "execution_count": 10
        }
      ]
    },
    {
      "cell_type": "code",
      "source": [
        "print (\"baseline accuracy \" , (  (model.predict(X_test) == Y_test).astype(\"int8\").sum() / Y_test.shape[0]   ) )"
      ],
      "metadata": {
        "colab": {
          "base_uri": "https://localhost:8080/"
        },
        "id": "6-YNYnq_Tulz",
        "outputId": "cf1343fb-a79b-44b2-d183-b6232742b679"
      },
      "execution_count": 11,
      "outputs": [
        {
          "output_type": "stream",
          "name": "stdout",
          "text": [
            "baseline accuracy  0.45\n"
          ]
        }
      ]
    },
    {
      "cell_type": "code",
      "source": [
        "from sklearn.metrics import confusion_matrix\n",
        "y_pred = model.predict(X_test)\n",
        "a=confusion_matrix(Y_test,y_pred)\n",
        "#a[0][0]=54; a[0][1]=11; a[1][0]=46; a[1][1]=29;"
      ],
      "metadata": {
        "id": "Si4B0UyrTyWc"
      },
      "execution_count": 12,
      "outputs": []
    },
    {
      "cell_type": "code",
      "source": [
        "print(\"Sensitivity:\",a[0][0]/(a[0][0]+a[0][1]))"
      ],
      "metadata": {
        "colab": {
          "base_uri": "https://localhost:8080/"
        },
        "id": "08KydIHET1e7",
        "outputId": "a41f630c-6c91-4051-f947-fe21dec0b1be"
      },
      "execution_count": 13,
      "outputs": [
        {
          "output_type": "stream",
          "name": "stdout",
          "text": [
            "Sensitivity: 0.5692307692307692\n"
          ]
        }
      ]
    },
    {
      "cell_type": "code",
      "source": [
        "print(\"Specificty:\", a[1][1]/(a[1][1]+a[1][0]))"
      ],
      "metadata": {
        "colab": {
          "base_uri": "https://localhost:8080/"
        },
        "id": "n_okK8ULT5Jf",
        "outputId": "b2a533ee-d437-4fd3-d138-5bec60a7e910"
      },
      "execution_count": 14,
      "outputs": [
        {
          "output_type": "stream",
          "name": "stdout",
          "text": [
            "Specificty: 0.3466666666666667\n"
          ]
        }
      ]
    },
    {
      "cell_type": "code",
      "source": [
        "df = pd.DataFrame({'lab':['Accuracy', 'Sensitivity', 'Specificty'], 'val':[75,86.9,53.1]}) #RF\n",
        "ax = df.plot.bar(x='lab', y='val', rot=0,color=['b', 'r', 'g'])"
      ],
      "metadata": {
        "colab": {
          "base_uri": "https://localhost:8080/",
          "height": 279
        },
        "id": "z6NATouqT8i8",
        "outputId": "ba76d5eb-6d38-48f8-d7aa-c53d7c2e620c"
      },
      "execution_count": 15,
      "outputs": [
        {
          "output_type": "display_data",
          "data": {
            "text/plain": [
              "<Figure size 432x288 with 1 Axes>"
            ],
            "image/png": "[encoded data removed]"
          },
          "metadata": {
            "needs_background": "light"
          }
        }
      ]
    }
  ]
}